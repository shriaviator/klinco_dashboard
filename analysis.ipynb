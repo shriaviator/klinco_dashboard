{
 "cells": [
  {
   "cell_type": "code",
   "execution_count": 2,
   "metadata": {},
   "outputs": [],
   "source": [
    "import pandas as pd"
   ]
  },
  {
   "cell_type": "code",
   "execution_count": 14,
   "metadata": {},
   "outputs": [],
   "source": [
    "df = pd.read_csv(\"input/OrderReport06112023090646 - OrderReport06112023090646.xls.csv\")\n",
    "#drop last row as they are total\n",
    "df = df[:-1]"
   ]
  },
  {
   "cell_type": "code",
   "execution_count": 15,
   "metadata": {},
   "outputs": [
    {
     "data": {
      "text/plain": [
       "['Unnamed: 0',\n",
       " 'Order Date / Time',\n",
       " 'Order No.',\n",
       " 'Name',\n",
       " 'Address',\n",
       " 'Phone',\n",
       " 'Preference',\n",
       " 'Due Date',\n",
       " 'Delivered On',\n",
       " 'Pcs.',\n",
       " 'Weight',\n",
       " 'Gross Amount',\n",
       " 'Discount',\n",
       " 'Tax',\n",
       " 'Net Amount',\n",
       " 'Advance',\n",
       " 'Paid',\n",
       " 'Adjustment',\n",
       " 'Balance',\n",
       " 'Advance Received',\n",
       " 'Advance Used',\n",
       " 'Booked By',\n",
       " 'WorkShop Note',\n",
       " 'Order Note',\n",
       " 'Home Delivery',\n",
       " 'Area Location',\n",
       " 'Garments inspected by',\n",
       " 'Customer GSTIN',\n",
       " 'Registration Source',\n",
       " 'Mobile POS Order',\n",
       " 'Package',\n",
       " 'Package Type',\n",
       " 'Package Name',\n",
       " 'Feedback',\n",
       " 'Tags',\n",
       " 'Comments',\n",
       " 'Primary Services',\n",
       " 'Top Up/Extra Service',\n",
       " 'Order Status']"
      ]
     },
     "execution_count": 15,
     "metadata": {},
     "output_type": "execute_result"
    }
   ],
   "source": [
    "df.columns.to_list()"
   ]
  },
  {
   "cell_type": "code",
   "execution_count": 16,
   "metadata": {},
   "outputs": [],
   "source": [
    "subset_df = df[[\n",
    " 'Order Date / Time',\n",
    " 'Order No.',\n",
    " 'Phone',\n",
    " 'Due Date',\n",
    " 'Delivered On',\n",
    " 'Paid',\n",
    " 'Balance',\n",
    " 'Order Status']]"
   ]
  },
  {
   "cell_type": "code",
   "execution_count": 33,
   "metadata": {},
   "outputs": [
    {
     "data": {
      "text/html": [
       "<div>\n",
       "<style scoped>\n",
       "    .dataframe tbody tr th:only-of-type {\n",
       "        vertical-align: middle;\n",
       "    }\n",
       "\n",
       "    .dataframe tbody tr th {\n",
       "        vertical-align: top;\n",
       "    }\n",
       "\n",
       "    .dataframe thead th {\n",
       "        text-align: right;\n",
       "    }\n",
       "</style>\n",
       "<table border=\"1\" class=\"dataframe\">\n",
       "  <thead>\n",
       "    <tr style=\"text-align: right;\">\n",
       "      <th></th>\n",
       "      <th>Order Date / Time</th>\n",
       "      <th>Order No.</th>\n",
       "      <th>Phone</th>\n",
       "      <th>Due Date</th>\n",
       "      <th>Delivered On</th>\n",
       "      <th>Paid</th>\n",
       "      <th>Balance</th>\n",
       "      <th>Order Status</th>\n",
       "    </tr>\n",
       "  </thead>\n",
       "  <tbody>\n",
       "    <tr>\n",
       "      <th>0</th>\n",
       "      <td>2023-01-01 10:51:25</td>\n",
       "      <td>K23739</td>\n",
       "      <td>7978116979.0</td>\n",
       "      <td>2023-01-04 00:00:00</td>\n",
       "      <td>2023-01-06 22:29:03</td>\n",
       "      <td>297</td>\n",
       "      <td>0</td>\n",
       "      <td>Delivered</td>\n",
       "    </tr>\n",
       "    <tr>\n",
       "      <th>1</th>\n",
       "      <td>2023-01-01 10:54:00</td>\n",
       "      <td>K23740</td>\n",
       "      <td>9845166219.0</td>\n",
       "      <td>2023-01-04 00:00:00</td>\n",
       "      <td>2023-01-07 21:47:03</td>\n",
       "      <td>120</td>\n",
       "      <td>0</td>\n",
       "      <td>Delivered</td>\n",
       "    </tr>\n",
       "    <tr>\n",
       "      <th>2</th>\n",
       "      <td>2023-01-01 11:02:36</td>\n",
       "      <td>K23741</td>\n",
       "      <td>8971985235.0</td>\n",
       "      <td>2023-01-04 00:00:00</td>\n",
       "      <td>2023-03-31 16:47:21</td>\n",
       "      <td>49</td>\n",
       "      <td>0</td>\n",
       "      <td>Delivered</td>\n",
       "    </tr>\n",
       "    <tr>\n",
       "      <th>3</th>\n",
       "      <td>2023-01-01 11:44:56</td>\n",
       "      <td>K23742</td>\n",
       "      <td>9036011774.0</td>\n",
       "      <td>2023-01-03 00:00:00</td>\n",
       "      <td>2023-01-03 20:50:38</td>\n",
       "      <td>264</td>\n",
       "      <td>0</td>\n",
       "      <td>Delivered</td>\n",
       "    </tr>\n",
       "    <tr>\n",
       "      <th>4</th>\n",
       "      <td>2023-01-01 12:06:17</td>\n",
       "      <td>K23743</td>\n",
       "      <td>9833175148.0</td>\n",
       "      <td>2023-01-01 00:00:00</td>\n",
       "      <td>2023-01-02 11:18:42</td>\n",
       "      <td>155</td>\n",
       "      <td>0</td>\n",
       "      <td>Delivered</td>\n",
       "    </tr>\n",
       "  </tbody>\n",
       "</table>\n",
       "</div>"
      ],
      "text/plain": [
       "    Order Date / Time Order No.         Phone             Due Date  \\\n",
       "0 2023-01-01 10:51:25    K23739  7978116979.0  2023-01-04 00:00:00   \n",
       "1 2023-01-01 10:54:00    K23740  9845166219.0  2023-01-04 00:00:00   \n",
       "2 2023-01-01 11:02:36    K23741  8971985235.0  2023-01-04 00:00:00   \n",
       "3 2023-01-01 11:44:56    K23742  9036011774.0  2023-01-03 00:00:00   \n",
       "4 2023-01-01 12:06:17    K23743  9833175148.0  2023-01-01 00:00:00   \n",
       "\n",
       "          Delivered On Paid Balance Order Status  \n",
       "0  2023-01-06 22:29:03  297       0    Delivered  \n",
       "1  2023-01-07 21:47:03  120       0    Delivered  \n",
       "2  2023-03-31 16:47:21   49       0    Delivered  \n",
       "3  2023-01-03 20:50:38  264       0    Delivered  \n",
       "4  2023-01-02 11:18:42  155       0    Delivered  "
      ]
     },
     "execution_count": 33,
     "metadata": {},
     "output_type": "execute_result"
    }
   ],
   "source": [
    "subset_df.head(5)"
   ]
  },
  {
   "cell_type": "code",
   "execution_count": 59,
   "metadata": {},
   "outputs": [],
   "source": [
    "subset_df =subset_df.assign(Delivered_On = pd.to_datetime(subset_df[\"Delivered On\"],format=\"%d %b %Y %I:%M:%S %p\")) \n",
    "subset_df =subset_df.assign(Due_Date = pd.to_datetime(subset_df[\"Due Date\"],format=\"%d %b %Y\")) \n",
    "subset_df =subset_df.assign(Order_date_time = pd.to_datetime(subset_df[\"Order Date / Time\"],format=\"%d %b %Y %I:%M:%S %p\"))\n",
    "\n",
    "subset_df.loc[:,('Phone')] = subset_df['Phone'].astype(str)"
   ]
  },
  {
   "cell_type": "code",
   "execution_count": 62,
   "metadata": {},
   "outputs": [],
   "source": [
    "subset_df = subset_df.drop(['Order Date / Time',\n",
    " 'Order No.',\n",
    " \n",
    " 'Due Date',\n",
    " 'Delivered On',\n",
    " ],axis=1)"
   ]
  },
  {
   "cell_type": "code",
   "execution_count": 73,
   "metadata": {},
   "outputs": [],
   "source": [
    "subset_df[\"delivered_on_dayofyear\"]= subset_df[\"Delivered_On\"].dt.dayofyear\n",
    "subset_df[\"due_date_dayofyear\"]= subset_df[\"Due_Date\"].dt.dayofyear\n",
    "subset_df[\"due_date_weeknum\"] = subset_df[\"Due_Date\"].dt.isocalendar().week"
   ]
  },
  {
   "cell_type": "code",
   "execution_count": 76,
   "metadata": {},
   "outputs": [],
   "source": [
    "subset_df[\"on_time_deliver\"] = subset_df[\"Delivered_On\"] <= subset_df[\"Due_Date\"]"
   ]
  },
  {
   "cell_type": "code",
   "execution_count": 78,
   "metadata": {},
   "outputs": [],
   "source": [
    "grouped_df = subset_df.groupby(\"due_date_weeknum\")"
   ]
  },
  {
   "cell_type": "code",
   "execution_count": 84,
   "metadata": {},
   "outputs": [],
   "source": [
    "grouped_df[\"on_time_deliver\"].value_counts().reset_index(name='count').to_csv('output.csv', index=False)"
   ]
  }
 ],
 "metadata": {
  "kernelspec": {
   "display_name": "env_klinco",
   "language": "python",
   "name": "python3"
  },
  "language_info": {
   "codemirror_mode": {
    "name": "ipython",
    "version": 3
   },
   "file_extension": ".py",
   "mimetype": "text/x-python",
   "name": "python",
   "nbconvert_exporter": "python",
   "pygments_lexer": "ipython3",
   "version": "3.10.12"
  }
 },
 "nbformat": 4,
 "nbformat_minor": 2
}
